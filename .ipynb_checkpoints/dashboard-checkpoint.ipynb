{
 "cells": [
  {
   "cell_type": "markdown",
   "metadata": {},
   "source": [
    "# Toronto Dwellings Analysis Dashboard\n",
    "\n",
    "In this notebook, you will compile the visualizations from the previous analysis into functions to create a Panel dashboard."
   ]
  },
  {
   "cell_type": "code",
   "execution_count": 60,
   "metadata": {},
   "outputs": [],
   "source": [
    "# imports\n",
    "import panel as pn\n",
    "pn.extension('plotly')\n",
    "import plotly.express as px\n",
    "import pandas as pd\n",
    "import hvplot.pandas\n",
    "import matplotlib.pyplot as plt\n",
    "import os\n",
    "from pathlib import Path\n",
    "from dotenv import load_dotenv\n",
    "%matplotlib inline"
   ]
  },
  {
   "cell_type": "code",
   "execution_count": 61,
   "metadata": {},
   "outputs": [],
   "source": [
    "# Initialize the Panel Extensions (for Plotly)\n",
    "import panel as pn\n",
    "pn.extension(\"plotly\")"
   ]
  },
  {
   "cell_type": "code",
   "execution_count": 62,
   "metadata": {},
   "outputs": [],
   "source": [
    "# Read the Mapbox API key\n",
    "load_dotenv()\n",
    "map_box_api = os.getenv(\"mapbox\")\n",
    "px.set_mapbox_access_token(map_box_api)"
   ]
  },
  {
   "cell_type": "markdown",
   "metadata": {},
   "source": [
    "# Import Data"
   ]
  },
  {
   "cell_type": "code",
   "execution_count": 63,
   "metadata": {},
   "outputs": [],
   "source": [
    "# Import the CSVs to Pandas DataFrames\n",
    "file_path = Path(\"toronto_neighbourhoods_census_data.csv\")\n",
    "to_data = pd.read_csv(file_path, index_col='year')\n",
    "\n",
    "file_path = Path(\"toronto_neighbourhoods_coordinates.csv\")\n",
    "df_neighbourhood_locations = pd.read_csv(file_path)"
   ]
  },
  {
   "cell_type": "markdown",
   "metadata": {},
   "source": [
    "- - -"
   ]
  },
  {
   "cell_type": "markdown",
   "metadata": {},
   "source": [
    "## Panel Visualizations\n",
    "\n",
    "In this section, you will copy the code for each plot type from your analysis notebook and place it into separate functions that Panel can use to create panes for the dashboard. \n",
    "\n",
    "These functions will convert the plot object to a Panel pane.\n",
    "\n",
    "Be sure to include any DataFrame transformation/manipulation code required along with the plotting code.\n",
    "\n",
    "Return a Panel pane object from each function that can be used to build the dashboard.\n",
    "\n",
    "Note: Remove any `.show()` lines from the code. We want to return the plots instead of showing them. The Panel dashboard will then display the plots."
   ]
  },
  {
   "cell_type": "markdown",
   "metadata": {},
   "source": [
    "### Global available data"
   ]
  },
  {
   "cell_type": "code",
   "execution_count": 84,
   "metadata": {},
   "outputs": [
    {
     "data": {
      "text/html": [
       "<div>\n",
       "<style scoped>\n",
       "    .dataframe tbody tr th:only-of-type {\n",
       "        vertical-align: middle;\n",
       "    }\n",
       "\n",
       "    .dataframe tbody tr th {\n",
       "        vertical-align: top;\n",
       "    }\n",
       "\n",
       "    .dataframe thead th {\n",
       "        text-align: right;\n",
       "    }\n",
       "</style>\n",
       "<table border=\"1\" class=\"dataframe\">\n",
       "  <thead>\n",
       "    <tr style=\"text-align: right;\">\n",
       "      <th></th>\n",
       "      <th>year</th>\n",
       "      <th>neighbourhood</th>\n",
       "      <th>average_house_value</th>\n",
       "    </tr>\n",
       "  </thead>\n",
       "  <tbody>\n",
       "    <tr>\n",
       "      <th>436</th>\n",
       "      <td>2016</td>\n",
       "      <td>Bridle Path-Sunnybrook-York Mills</td>\n",
       "      <td>2124653</td>\n",
       "    </tr>\n",
       "    <tr>\n",
       "      <th>296</th>\n",
       "      <td>2011</td>\n",
       "      <td>Bridle Path-Sunnybrook-York Mills</td>\n",
       "      <td>1697067</td>\n",
       "    </tr>\n",
       "    <tr>\n",
       "      <th>464</th>\n",
       "      <td>2016</td>\n",
       "      <td>Forest Hill South</td>\n",
       "      <td>1664653</td>\n",
       "    </tr>\n",
       "    <tr>\n",
       "      <th>489</th>\n",
       "      <td>2016</td>\n",
       "      <td>Lawrence Park South</td>\n",
       "      <td>1522732</td>\n",
       "    </tr>\n",
       "    <tr>\n",
       "      <th>524</th>\n",
       "      <td>2016</td>\n",
       "      <td>Rosedale-Moore Park</td>\n",
       "      <td>1522193</td>\n",
       "    </tr>\n",
       "    <tr>\n",
       "      <th>...</th>\n",
       "      <td>...</td>\n",
       "      <td>...</td>\n",
       "      <td>...</td>\n",
       "    </tr>\n",
       "    <tr>\n",
       "      <th>73</th>\n",
       "      <td>2001</td>\n",
       "      <td>Malvern</td>\n",
       "      <td>156076</td>\n",
       "    </tr>\n",
       "    <tr>\n",
       "      <th>118</th>\n",
       "      <td>2001</td>\n",
       "      <td>Thorncliffe Park</td>\n",
       "      <td>155094</td>\n",
       "    </tr>\n",
       "    <tr>\n",
       "      <th>81</th>\n",
       "      <td>2001</td>\n",
       "      <td>Mount Olive-Silverstone-Jamestown</td>\n",
       "      <td>153829</td>\n",
       "    </tr>\n",
       "    <tr>\n",
       "      <th>115</th>\n",
       "      <td>2001</td>\n",
       "      <td>Taylor-Massey</td>\n",
       "      <td>145464</td>\n",
       "    </tr>\n",
       "    <tr>\n",
       "      <th>42</th>\n",
       "      <td>2001</td>\n",
       "      <td>Flemingdon Park</td>\n",
       "      <td>126255</td>\n",
       "    </tr>\n",
       "  </tbody>\n",
       "</table>\n",
       "<p>560 rows × 3 columns</p>\n",
       "</div>"
      ],
      "text/plain": [
       "     year                      neighbourhood  average_house_value\n",
       "436  2016  Bridle Path-Sunnybrook-York Mills              2124653\n",
       "296  2011  Bridle Path-Sunnybrook-York Mills              1697067\n",
       "464  2016                  Forest Hill South              1664653\n",
       "489  2016                Lawrence Park South              1522732\n",
       "524  2016                Rosedale-Moore Park              1522193\n",
       "..    ...                                ...                  ...\n",
       "73   2001                            Malvern               156076\n",
       "118  2001                   Thorncliffe Park               155094\n",
       "81   2001  Mount Olive-Silverstone-Jamestown               153829\n",
       "115  2001                      Taylor-Massey               145464\n",
       "42   2001                    Flemingdon Park               126255\n",
       "\n",
       "[560 rows x 3 columns]"
      ]
     },
     "execution_count": 84,
     "metadata": {},
     "output_type": "execute_result"
    }
   ],
   "source": [
    "# Getting the data from the top 10 expensive neighbourhoods\n",
    "neighbourhood_by_year = (to_data.groupby(['year', 'neighbourhood'])[['average_house_value']]\n",
    "                      .mean().reset_index()\n",
    "                     )\n",
    "top_10 = neighbourhood_by_year.sort_values(ascending=False, by='average_house_value').drop(columns=['year'])\n",
    "top_10 = top_10.reset_index().drop(columns=['index']).head(10)\n",
    "top_10\n",
    "\n",
    "# Calculate the (mean) sum number of dwelling types units per year. \n",
    "#It does say calculate mean here but in rental analysis sum was used so sum has been used here.\n",
    "number_of_dwelling = (to_data\n",
    "                      .groupby([\"year\",])[['single_detached_house','apartment_five_storeys_plus',\n",
    "                                                           'movable_dwelling','semi_detached_house','row_house',\n",
    "                                                           'duplex','apartment_five_storeys_less','other_house']]\n",
    "                      .sum().reset_index()\n",
    "                     )\n",
    "number_of_dwelling.head()\n",
    "\n",
    "# Calculate the average monthly shelter costs for owned and rented dwellings\n",
    "avg_dwelling_cost = (to_data\n",
    "                      .groupby([\"year\"])[['shelter_costs_owned','shelter_costs_rented']]\n",
    "                      .mean()\n",
    "                     )\n",
    "avg_dwelling_cost\n",
    "\n",
    "# Calculate the mean values for each neighborhood\n",
    "mean_value_neighbourhood =  (to_data.groupby([\"neighbourhood\"])[['single_detached_house','apartment_five_storeys_plus','movable_dwelling','semi_detached_house','row_house','duplex','apartment_five_storeys_less','other_house','average_house_value','shelter_costs_owned','shelter_costs_rented']]\n",
    "                      .mean().reset_index()\n",
    "                     )\n",
    "# Join the average values with the neighbourhood locations \n",
    "combined_df = pd.concat([df_neighbourhood_locations, mean_value_neighbourhood.loc[:,mean_value_neighbourhood.columns != 'neighbourhood']], axis=1)\n",
    "combined_df\n",
    "\n",
    "# Calculate the average house value per year\n",
    "avg_house_value = (to_data\n",
    "                      .groupby([\"year\"])[['average_house_value']]\n",
    "                      .mean()\n",
    "                     )\n",
    "avg_house_value\n",
    "\n",
    "# Create a new DataFrame with the mean house values by neighbourhood per year\n",
    "neighbourhood_value_by_year = (to_data.groupby(['year', 'neighbourhood'])[['average_house_value']]\n",
    "                      .mean().reset_index()\n",
    "                     )\n",
    "neighbourhood_value_by_year.head()\n",
    "\n",
    "# Calculate the sum number of dwelling types units per year\n",
    "neighbourhood_dwelling = (to_data\n",
    "                      .groupby([\"year\", \"neighbourhood\"])[['single_detached_house','apartment_five_storeys_plus','movable_dwelling','semi_detached_house','row_house','duplex','apartment_five_storeys_less','other_house']]\n",
    "                      .sum().reset_index()\n",
    "                     )\n",
    "neighbourhood_dwelling.head()\n",
    "\n",
    "# Fetch the data from all expensive neighbourhoods per year.\n",
    "top_neighbourhoods_per_year = neighbourhood_value_by_year.sort_values(ascending=False, by='average_house_value')\n",
    "top_neighbourhoods_per_year\n"
   ]
  },
  {
   "cell_type": "markdown",
   "metadata": {},
   "source": [
    "### Panel Visualization Functions"
   ]
  },
  {
   "cell_type": "code",
   "execution_count": 95,
   "metadata": {},
   "outputs": [],
   "source": [
    "# Define Panel visualization functions\n",
    "map_plot = px.scatter_mapbox(\n",
    "    \n",
    "    combined_df,\n",
    "    lat=\"lat\",\n",
    "    lon = 'lon',\n",
    "    color = 'average_house_value',\n",
    "    size = 'average_house_value',\n",
    "    hover_name = 'neighbourhood',\n",
    "    height = 600,\n",
    "    zoom = 9\n",
    "    \n",
    ")\n",
    "\n",
    "# Bar chart for 2001\n",
    "dwelling_2001 = number_of_dwelling[number_of_dwelling['year'] == 2001]\n",
    "dwelling_2001.set_index('year', inplace=True)\n",
    "dwelling_2001 = dwelling_2001.T\n",
    "\n",
    "plot_2001 = dwelling_2001.hvplot.bar(title=\"Dwelling Types in Toronto in 2001\", \n",
    "                       xlabel=\"2001\", ylabel=\"Dwelling Type Units\",\n",
    "                       color=\"blue\",yformatter=\"%.0f\",rot=90, height=500 \n",
    "                      )\n",
    "\n",
    "# Bar chart for 2006\n",
    "\n",
    "dwelling_2006= number_of_dwelling[number_of_dwelling['year'] == 2006]\n",
    "dwelling_2006.set_index('year', inplace=True)\n",
    "dwelling_2006 = dwelling_2006.T\n",
    "\n",
    "plot_2006 = dwelling_2006.hvplot.bar(title=\"Dwelling Types in Toronto in 2006\", \n",
    "                       xlabel=\"2006\", ylabel=\"Dwelling Type Units\",\n",
    "                       color=\"purple\",yformatter=\"%.0f\",rot=90, height=500 \n",
    "                      )\n",
    "# Bar chart for 2011\n",
    "dwelling_2011 = number_of_dwelling[number_of_dwelling['year'] == 2011]\n",
    "dwelling_2011.set_index('year', inplace=True)\n",
    "dwelling_2011 = dwelling_2011.T\n",
    "\n",
    "plot_2011 = dwelling_2011.hvplot.bar(title=\"Dwelling Types in Toronto in 2011\", \n",
    "                       xlabel=\"2001\", ylabel=\"Dwelling Type Units\",\n",
    "                       color=\"green\",yformatter=\"%.0f\",rot=90, height=500 \n",
    "                      )\n",
    "# Bar chart for 2016\n",
    "dwelling_2016 = number_of_dwelling[number_of_dwelling['year'] == 2016]\n",
    "dwelling_2016.set_index('year', inplace=True)\n",
    "dwelling_2016 = dwelling_2016.T\n",
    "\n",
    "plot_2016 = dwelling_2016.hvplot.bar(title=\"Dwelling Types in Toronto in 2016\", \n",
    "                       xlabel=\"2016\", ylabel=\"Dwelling Type Units\",\n",
    "                       color=\"yellow\",yformatter=\"%.0f\",rot=90, height=500 \n",
    "                      )\n",
    "# Line chart for owned dwellings\n",
    "owned_plot = avg_dwelling_cost.hvplot(title=\"Average Monthly Shelter Cost for Owned Dwellings in Toronto\", \n",
    "                       yformatter=\"%.0f\",\n",
    "                       y=\"shelter_costs_owned\",         \n",
    "                       xlabel=\"Year\",\n",
    "                       ylabel=\"Avg Monthly Shelter Costs\",\n",
    "                       color=\"brown\"\n",
    "                      )\n",
    "# Line chart for rented dwellings\n",
    "rented_plot = avg_dwelling_cost.hvplot(title=\"Average Monthly Shelter Cost for Rented Dwellings in Toronto\", \n",
    "                       yformatter=\"%.0f\",\n",
    "                       y=\"shelter_costs_rented\",         \n",
    "                       xlabel=\"Year\",\n",
    "                       ylabel=\"Avg Monthly Shelter Costs\",\n",
    "                       color=\"purple\"\n",
    "                      )\n",
    "# Plot the average house value per year as a line chart\n",
    "avg_value_plot = avg_house_value.hvplot(title=\"Average House Value in Toronto\", \n",
    "                       legend=False,         \n",
    "                       xlabel=\"Year\",\n",
    "                       ylabel=\"Avg House Value\",\n",
    "                       yformatter=\"%.0f\",\n",
    "                       color=\"orange\"\n",
    "                      )\n",
    "# Use hvplot to create an interactive line chart of the average house value per neighbourhood\n",
    "average_value_neighbourhood_plot = neighbourhood_value_by_year.hvplot(\n",
    "                             x=\"year\",\n",
    "                             groupby='neighbourhood',\n",
    "                             widget_location='right_top',\n",
    "                             yformatter=\"%.0f\",\n",
    "                       legend=False,         \n",
    "                       xlabel=\"Year\",\n",
    "                       ylabel=\"Avg House Value\",\n",
    "                       color=\"orange\"\n",
    "                      )\n",
    "# Use hvplot to create an interactive bar chart of the number of dwelling types per neighbourhood\n",
    "neighbourhood_dwelling_types = neighbourhood_dwelling.hvplot(\n",
    "                             kind='bar',\n",
    "                             height=600,   \n",
    "                             x=\"year\",\n",
    "                             rot=90,\n",
    "                             groupby='neighbourhood',\n",
    "                             widget_location='right_top',        \n",
    "                       xlabel=\"Year\",\n",
    "                       ylabel=\"Avg House Value\",\n",
    "                      )\n",
    "# Plotting the data from the top 10 expensive neighbourhoods\n",
    "top_10_plot = top_10.head(10).hvplot.bar(x='neighbourhood',\n",
    "                                         rot=90,\n",
    "                                         title='Top 10 Expensive Neighbourhood in Toronto',\n",
    "                                         yformatter=\"%.0f\",\n",
    "                                         height=500)\n",
    "\n",
    "# Create a bar chart row facet to plot the average house values for all Toronto's neighbourhoods per year\n",
    "facet_row = px.bar(neighbourhood_value_by_year, color=\"average_house_value\", \n",
    "             y=\"average_house_value\", x=\"neighbourhood\", facet_row=\"year\", height=1000,\n",
    "                   title='Avg house values per neighbourhood in Toronto')\n",
    "\n",
    "\n",
    "# Create the sunburst chart of top 100 expensive neighbourhoods in toronto\n",
    "df_sunburst = px.sunburst(top_neighbourhoods_per_year.head(100), path=['year', 'neighbourhood'], \n",
    "                          values='average_house_value', \n",
    "                          color='average_house_value', height=800,\n",
    "                         title='Most Expensive Neighbourhoods in Toronto')\n"
   ]
  },
  {
   "cell_type": "markdown",
   "metadata": {},
   "source": [
    "## Panel Dashboard\n",
    "\n",
    "In this section, you will combine all of the plots into a single dashboard view using Panel. Be creative with your dashboard design!"
   ]
  },
  {
   "cell_type": "code",
   "execution_count": 100,
   "metadata": {},
   "outputs": [
    {
     "data": {},
     "metadata": {},
     "output_type": "display_data"
    },
    {
     "data": {},
     "metadata": {},
     "output_type": "display_data"
    },
    {
     "data": {
      "application/vnd.holoviews_exec.v0+json": "",
      "text/html": [
       "<div id='4529'>\n",
       "\n",
       "\n",
       "\n",
       "\n",
       "\n",
       "  <div class=\"bk-root\" id=\"d62331ba-bb1a-41ce-904d-da696a827ade\" data-root-id=\"4529\"></div>\n",
       "</div>\n",
       "<script type=\"application/javascript\">(function(root) {\n",
       "  function embed_document(root) {\n",
       "    var docs_json = {\"41994620-10cd-4870-b5c7-ae61f30012b4\":{\"defs\":[{\"extends\":null,\"module\":null,\"name\":\"ReactiveHTML1\",\"overrides\":[],\"properties\":[]},{\"extends\":null,\"module\":null,\"name\":\"FlexBox1\",\"overrides\":[],\"properties\":[{\"default\":\"flex-start\",\"kind\":null,\"name\":\"align_content\"},{\"default\":\"flex-start\",\"kind\":null,\"name\":\"align_items\"},{\"default\":\"row\",\"kind\":null,\"name\":\"flex_direction\"},{\"default\":\"wrap\",\"kind\":null,\"name\":\"flex_wrap\"},{\"default\":\"flex-start\",\"kind\":null,\"name\":\"justify_content\"}]},{\"extends\":null,\"module\":null,\"name\":\"TemplateActions1\",\"overrides\":[],\"properties\":[{\"default\":0,\"kind\":null,\"name\":\"open_modal\"},{\"default\":0,\"kind\":null,\"name\":\"close_modal\"}]},{\"extends\":null,\"module\":null,\"name\":\"MaterialTemplateActions1\",\"overrides\":[],\"properties\":[{\"default\":0,\"kind\":null,\"name\":\"open_modal\"},{\"default\":0,\"kind\":null,\"name\":\"close_modal\"}]}],\"roots\":{\"references\":[{\"attributes\":{\"data_source\":{\"id\":\"4562\"},\"glyph\":{\"id\":\"4565\"},\"hover_glyph\":null,\"muted_glyph\":{\"id\":\"4567\"},\"nonselection_glyph\":{\"id\":\"4566\"},\"selection_glyph\":{\"id\":\"4570\"},\"view\":{\"id\":\"4569\"}},\"id\":\"4568\",\"type\":\"GlyphRenderer\"},{\"attributes\":{\"client_comm_id\":\"cb83417214344097821f71ef2472c58c\",\"comm_id\":\"12c7d3e888cf4d5f8e60bb8a03694df7\",\"plot_id\":\"4529\"},\"id\":\"4666\",\"type\":\"panel.models.comm_manager.CommManager\"},{\"attributes\":{},\"id\":\"4540\",\"type\":\"LinearScale\"},{\"attributes\":{},\"id\":\"4574\",\"type\":\"CategoricalTickFormatter\"},{\"attributes\":{},\"id\":\"4606\",\"type\":\"Selection\"},{\"attributes\":{\"axis_label\":\"neighbourhood\",\"formatter\":{\"id\":\"4574\"},\"major_label_orientation\":1.5707963267948966,\"major_label_policy\":{\"id\":\"4573\"},\"ticker\":{\"id\":\"4543\"}},\"id\":\"4542\",\"type\":\"CategoricalAxis\"},{\"attributes\":{},\"id\":\"4587\",\"type\":\"UnionRenderers\"},{\"attributes\":{\"fill_alpha\":{\"value\":0.1},\"fill_color\":{\"value\":\"#30a2da\"},\"line_alpha\":{\"value\":0.1},\"top\":{\"field\":\"average_house_value\"},\"width\":{\"value\":0.8},\"x\":{\"field\":\"neighbourhood\"}},\"id\":\"4566\",\"type\":\"VBar\"},{\"attributes\":{\"callback\":null,\"renderers\":[{\"id\":\"4568\"}],\"tags\":[\"hv_created\"],\"tooltips\":[[\"neighbourhood\",\"@{neighbourhood}\"],[\"average_house_value\",\"@{average_house_value}\"]]},\"id\":\"4532\",\"type\":\"HoverTool\"},{\"attributes\":{\"data\":{\"customdata\":[{\"__ndarray__\":\"AAAAAOJCJEEAAAAA5FcpQQAAAACOui9BAAAAAOLDJEEAAAAAQP8pQQAAAAAYTiVBAAAAANjnJkEAAAAAQAQoQQAAAACmPClBAAAAACaRL0EAAAAAn8IzQQAAAABQuSVBAAAAANRNLEEAAAAA1bM0QQAAAAAr5TlBAAAAgLY1QEEAAAAA6PwkQQAAAABanCpBAAAAAIikMEEAAAAA/9U0QQAAAACebSdBAAAAAH7VI0EAAAAAxm8jQQAAAABQTiRBAAAAAGyYJUEAAAAAGAMrQQAAAACy6DBBAAAAAIRNI0EAAAAAkCooQQAAAADuGSdBAAAAAEzlLEEAAAAAixYyQQAAAAAQLSZBAAAAAGM4MEEAAAAA6kk0QQAAAACNZjlBAAAAAFKeJkEAAAAAeMcjQQAAAAA+wyhBAAAAAI6mJ0EAAAAACpwtQQAAAABI3yZBAAAAAPCbLEEAAAAAn+gxQQAAAABEECZBAAAAAGKfK0EAAAAAHM4kQQAAAAAODCpBAAAAABqZJEEAAAAAusMpQQAAAADHIDBBAAAAABBJJEEAAAAAwKwtQQAAAAAbjzJBAAAAACw8N0EAAAAAAuAlQQAAAACiXCtBAAAAAL8gMUEAAAAAAPImQQAAAABS+yZBAAAAAKjFLEEAAAAA9uIjQQAAAAC+xCdBAAAAAC6QI0EAAAAAetonQQAAAAAK3S1BAAAAABAcJUEAAAAApm0qQQAAAADYTyNBAAAAALADJkEAAAAAoo8rQQAAAAA4xSRBAAAAAOr6KUEAAAAAU0MwQQAAAAAiniVBAAAAADhHJEEAAAAADqotQQAAAABsjTJBAAAAABE6N0EAAAAASHMnQQAAAADaUyNBAAAAAKIZK0EAAAAA4/IwQQAAAAAYODVBAAAAAFhhJ0EAAAAAOJsmQQAAAABYTSxBAAAAALqzJkEAAAAAaPokQQAAAACEQypBAAAAAFrsI0EAAAAAtMwjQQAAAACEuCNBAAAAAGAKKEEAAAAAvvYlQQAAAAASeStBAAAAAIwyMUEAAAAA3g4mQQAAAABAlytBAAAAAHBFMUHPNFfxtjwnQc6U23W/oCpB6rkg689mLUEbxzZ/6YMvQQ==\",\"dtype\":\"float64\",\"order\":\"little\",\"shape\":[104,1]}],\"ids\":[[\"2006/Annex\",\"2011/Annex\",\"2016/Annex\",\"2011/Banbury-Don Mills\",\"2016/Banbury-Don Mills\",\"2016/Bathurst Manor\",\"2016/Bayview Village\",\"2016/Bayview Woods-Steeles\",\"2006/Bedford Park-Nortown\",\"2011/Bedford Park-Nortown\",\"2016/Bedford Park-Nortown\",\"2016/Blake-Jones\",\"2001/Bridle Path-Sunnybrook-York Mills\",\"2006/Bridle Path-Sunnybrook-York Mills\",\"2011/Bridle Path-Sunnybrook-York Mills\",\"2016/Bridle Path-Sunnybrook-York Mills\",\"2016/Cabbagetown-South St.James Town\",\"2006/Casa Loma\",\"2011/Casa Loma\",\"2016/Casa Loma\",\"2016/Clanton Park\",\"2016/Danforth\",\"2016/Dufferin Grove\",\"2016/East End-Danforth\",\"2006/Edenbridge-Humber Valley\",\"2011/Edenbridge-Humber Valley\",\"2016/Edenbridge-Humber Valley\",\"2011/Englemount-Lawrence\",\"2016/Englemount-Lawrence\",\"2006/Forest Hill North\",\"2011/Forest Hill North\",\"2016/Forest Hill North\",\"2001/Forest Hill South\",\"2006/Forest Hill South\",\"2011/Forest Hill South\",\"2016/Forest Hill South\",\"2016/High Park North\",\"2011/High Park-Swansea\",\"2016/High Park-Swansea\",\"2011/Humewood-Cedarvale\",\"2016/Humewood-Cedarvale\",\"2006/Kingsway South\",\"2011/Kingsway South\",\"2016/Kingsway South\",\"2011/L'Amoreaux\",\"2016/L'Amoreaux\",\"2011/Lansing-Westgate\",\"2016/Lansing-Westgate\",\"2006/Lawrence Park North\",\"2011/Lawrence Park North\",\"2016/Lawrence Park North\",\"2001/Lawrence Park South\",\"2006/Lawrence Park South\",\"2011/Lawrence Park South\",\"2016/Lawrence Park South\",\"2006/Leaside-Bennington\",\"2011/Leaside-Bennington\",\"2016/Leaside-Bennington\",\"2016/Little Portugal\",\"2011/Mount Pleasant East\",\"2016/Mount Pleasant East\",\"2016/Mount Pleasant West\",\"2016/Newtonbrook East\",\"2016/Newtonbrook West\",\"2011/North Riverdale\",\"2016/North Riverdale\",\"2011/Palmerston-Little Italy\",\"2016/Palmerston-Little Italy\",\"2016/Parkwoods-Donalda\",\"2011/Playter Estates-Danforth\",\"2016/Playter Estates-Danforth\",\"2006/Princess-Rosethorn\",\"2011/Princess-Rosethorn\",\"2016/Princess-Rosethorn\",\"2016/Roncesvalles\",\"2001/Rosedale-Moore Park\",\"2006/Rosedale-Moore Park\",\"2011/Rosedale-Moore Park\",\"2016/Rosedale-Moore Park\",\"2016/Runnymede-Bloor West Village\",\"2016/South Riverdale\",\"2006/St.Andrew-Windfields\",\"2011/St.Andrew-Windfields\",\"2016/St.Andrew-Windfields\",\"2016/Stonegate-Queensway\",\"2011/The Beaches\",\"2016/The Beaches\",\"2016/Trinity-Bellwoods\",\"2011/University\",\"2016/University\",\"2016/Willowdale East\",\"2016/Willowdale West\",\"2016/Willowridge-Martingrove-Richview\",\"2016/Wychwood\",\"2006/Yonge-Eglinton\",\"2011/Yonge-Eglinton\",\"2016/Yonge-Eglinton\",\"2006/Yonge-St.Clair\",\"2011/Yonge-St.Clair\",\"2016/Yonge-St.Clair\",\"2001\",\"2006\",\"2011\",\"2016\"]],\"labels\":[[\"Annex\",\"Annex\",\"Annex\",\"Banbury-Don Mills\",\"Banbury-Don Mills\",\"Bathurst Manor\",\"Bayview Village\",\"Bayview Woods-Steeles\",\"Bedford Park-Nortown\",\"Bedford Park-Nortown\",\"Bedford Park-Nortown\",\"Blake-Jones\",\"Bridle Path-Sunnybrook-York Mills\",\"Bridle Path-Sunnybrook-York Mills\",\"Bridle Path-Sunnybrook-York Mills\",\"Bridle Path-Sunnybrook-York Mills\",\"Cabbagetown-South St.James Town\",\"Casa Loma\",\"Casa Loma\",\"Casa Loma\",\"Clanton Park\",\"Danforth\",\"Dufferin Grove\",\"East End-Danforth\",\"Edenbridge-Humber Valley\",\"Edenbridge-Humber Valley\",\"Edenbridge-Humber Valley\",\"Englemount-Lawrence\",\"Englemount-Lawrence\",\"Forest Hill North\",\"Forest Hill North\",\"Forest Hill North\",\"Forest Hill South\",\"Forest Hill South\",\"Forest Hill South\",\"Forest Hill South\",\"High Park North\",\"High Park-Swansea\",\"High Park-Swansea\",\"Humewood-Cedarvale\",\"Humewood-Cedarvale\",\"Kingsway South\",\"Kingsway South\",\"Kingsway South\",\"L'Amoreaux\",\"L'Amoreaux\",\"Lansing-Westgate\",\"Lansing-Westgate\",\"Lawrence Park North\",\"Lawrence Park North\",\"Lawrence Park North\",\"Lawrence Park South\",\"Lawrence Park South\",\"Lawrence Park South\",\"Lawrence Park South\",\"Leaside-Bennington\",\"Leaside-Bennington\",\"Leaside-Bennington\",\"Little Portugal\",\"Mount Pleasant East\",\"Mount Pleasant East\",\"Mount Pleasant West\",\"Newtonbrook East\",\"Newtonbrook West\",\"North Riverdale\",\"North Riverdale\",\"Palmerston-Little Italy\",\"Palmerston-Little Italy\",\"Parkwoods-Donalda\",\"Playter Estates-Danforth\",\"Playter Estates-Danforth\",\"Princess-Rosethorn\",\"Princess-Rosethorn\",\"Princess-Rosethorn\",\"Roncesvalles\",\"Rosedale-Moore Park\",\"Rosedale-Moore Park\",\"Rosedale-Moore Park\",\"Rosedale-Moore Park\",\"Runnymede-Bloor West Village\",\"South Riverdale\",\"St.Andrew-Windfields\",\"St.Andrew-Windfields\",\"St.Andrew-Windfields\",\"Stonegate-Queensway\",\"The Beaches\",\"The Beaches\",\"Trinity-Bellwoods\",\"University\",\"University\",\"Willowdale East\",\"Willowdale West\",\"Willowridge-Martingrove-Richview\",\"Wychwood\",\"Yonge-Eglinton\",\"Yonge-Eglinton\",\"Yonge-Eglinton\",\"Yonge-St.Clair\",\"Yonge-St.Clair\",\"Yonge-St.Clair\",\"2001\",\"2006\",\"2011\",\"2016\"]],\"marker.colors\":[{\"__ndarray__\":\"AAAAAOJCJEEAAAAA5FcpQQAAAACOui9BAAAAAOLDJEEAAAAAQP8pQQAAAAAYTiVBAAAAANjnJkEAAAAAQAQoQQAAAACmPClBAAAAACaRL0EAAAAAn8IzQQAAAABQuSVBAAAAANRNLEEAAAAA1bM0QQAAAAAr5TlBAAAAgLY1QEEAAAAA6PwkQQAAAABanCpBAAAAAIikMEEAAAAA/9U0QQAAAACebSdBAAAAAH7VI0EAAAAAxm8jQQAAAABQTiRBAAAAAGyYJUEAAAAAGAMrQQAAAACy6DBBAAAAAIRNI0EAAAAAkCooQQAAAADuGSdBAAAAAEzlLEEAAAAAixYyQQAAAAAQLSZBAAAAAGM4MEEAAAAA6kk0QQAAAACNZjlBAAAAAFKeJkEAAAAAeMcjQQAAAAA+wyhBAAAAAI6mJ0EAAAAACpwtQQAAAABI3yZBAAAAAPCbLEEAAAAAn+gxQQAAAABEECZBAAAAAGKfK0EAAAAAHM4kQQAAAAAODCpBAAAAABqZJEEAAAAAusMpQQAAAADHIDBBAAAAABBJJEEAAAAAwKwtQQAAAAAbjzJBAAAAACw8N0EAAAAAAuAlQQAAAACiXCtBAAAAAL8gMUEAAAAAAPImQQAAAABS+yZBAAAAAKjFLEEAAAAA9uIjQQAAAAC+xCdBAAAAAC6QI0EAAAAAetonQQAAAAAK3S1BAAAAABAcJUEAAAAApm0qQQAAAADYTyNBAAAAALADJkEAAAAAoo8rQQAAAAA4xSRBAAAAAOr6KUEAAAAAU0MwQQAAAAAiniVBAAAAADhHJEEAAAAADqotQQAAAABsjTJBAAAAABE6N0EAAAAASHMnQQAAAADaUyNBAAAAAKIZK0EAAAAA4/IwQQAAAAAYODVBAAAAAFhhJ0EAAAAAOJsmQQAAAABYTSxBAAAAALqzJkEAAAAAaPokQQAAAACEQypBAAAAAFrsI0EAAAAAtMwjQQAAAACEuCNBAAAAAGAKKEEAAAAAvvYlQQAAAAASeStBAAAAAIwyMUEAAAAA3g4mQQAAAABAlytBAAAAAHBFMUHPNFfxtjwnQc6U23W/oCpB6rkg689mLUEbxzZ/6YMvQQ==\",\"dtype\":\"float64\",\"order\":\"little\",\"shape\":[104]}],\"parents\":[[\"2006\",\"2011\",\"2016\",\"2011\",\"2016\",\"2016\",\"2016\",\"2016\",\"2006\",\"2011\",\"2016\",\"2016\",\"2001\",\"2006\",\"2011\",\"2016\",\"2016\",\"2006\",\"2011\",\"2016\",\"2016\",\"2016\",\"2016\",\"2016\",\"2006\",\"2011\",\"2016\",\"2011\",\"2016\",\"2006\",\"2011\",\"2016\",\"2001\",\"2006\",\"2011\",\"2016\",\"2016\",\"2011\",\"2016\",\"2011\",\"2016\",\"2006\",\"2011\",\"2016\",\"2011\",\"2016\",\"2011\",\"2016\",\"2006\",\"2011\",\"2016\",\"2001\",\"2006\",\"2011\",\"2016\",\"2006\",\"2011\",\"2016\",\"2016\",\"2011\",\"2016\",\"2016\",\"2016\",\"2016\",\"2011\",\"2016\",\"2011\",\"2016\",\"2016\",\"2011\",\"2016\",\"2006\",\"2011\",\"2016\",\"2016\",\"2001\",\"2006\",\"2011\",\"2016\",\"2016\",\"2016\",\"2006\",\"2011\",\"2016\",\"2016\",\"2011\",\"2016\",\"2016\",\"2011\",\"2016\",\"2016\",\"2016\",\"2016\",\"2016\",\"2006\",\"2011\",\"2016\",\"2006\",\"2011\",\"2016\",\"\",\"\",\"\",\"\"]],\"values\":[[663921,830450,1039687,680433,851872,698124,750572,786976,826963,1034387,1295007,711848,927466,1356757,1697067,2124653,687732,871981,1090696,1365503,767695,649919,636899,665384,707638,885132,1108146,632514,791880,756983,946854,1185419,726664,1063011,1329642,1664653,741161,648124,811423,774983,970245,749476,937464,1173663,722978,905137,681742,853511,674957,844253,1056967,664712,972384,1216283,1522732,716801,896593,1122495,751872,753065,942804,651643,778847,641047,781629,978565,691720,866003,632812,721368,903121,680604,851317,1065811,708369,664476,972039,1215852,1522193,768420,633325,888017,1110755,1390616,766124,740764,927404,743901,687412,860610,652845,648794,646210,787760,719711,900233,1127052,722799,904096,1131888,2983318,13344042,25207806,48467339]]},\"selected\":{\"id\":\"4606\"},\"selection_policy\":{\"id\":\"4607\"}},\"id\":\"4598\",\"type\":\"ColumnDataSource\"},{\"attributes\":{},\"id\":\"4543\",\"type\":\"CategoricalTicker\"},{\"attributes\":{},\"id\":\"4550\",\"type\":\"PanTool\"},{\"attributes\":{},\"id\":\"4563\",\"type\":\"Selection\"},{\"attributes\":{\"data\":[{\"branchvalues\":\"total\",\"domain\":{\"x\":[0.0,1.0],\"y\":[0.0,1.0]},\"hovertemplate\":\"labels=%{label}<br>average_house_value_sum=%{value}<br>parent=%{parent}<br>id=%{id}<br>average_house_value=%{color}<extra></extra>\",\"marker\":{\"coloraxis\":\"coloraxis\"},\"name\":\"\",\"type\":\"sunburst\"}],\"data_sources\":[{\"id\":\"4598\"}],\"layout\":{\"coloraxis\":{\"colorbar\":{\"title\":{\"text\":\"average_house_value\"}},\"colorscale\":[[0.0,\"#0d0887\"],[0.1111111111111111,\"#46039f\"],[0.2222222222222222,\"#7201a8\"],[0.3333333333333333,\"#9c179e\"],[0.4444444444444444,\"#bd3786\"],[0.5555555555555556,\"#d8576b\"],[0.6666666666666666,\"#ed7953\"],[0.7777777777777778,\"#fb9f3a\"],[0.8888888888888888,\"#fdca26\"],[1.0,\"#f0f921\"]]},\"height\":800,\"legend\":{\"tracegroupgap\":0},\"template\":{\"data\":{\"bar\":[{\"error_x\":{\"color\":\"#2a3f5f\"},\"error_y\":{\"color\":\"#2a3f5f\"},\"marker\":{\"line\":{\"color\":\"#E5ECF6\",\"width\":0.5},\"pattern\":{\"fillmode\":\"overlay\",\"size\":10,\"solidity\":0.2}},\"type\":\"bar\"}],\"barpolar\":[{\"marker\":{\"line\":{\"color\":\"#E5ECF6\",\"width\":0.5},\"pattern\":{\"fillmode\":\"overlay\",\"size\":10,\"solidity\":0.2}},\"type\":\"barpolar\"}],\"carpet\":[{\"aaxis\":{\"endlinecolor\":\"#2a3f5f\",\"gridcolor\":\"white\",\"linecolor\":\"white\",\"minorgridcolor\":\"white\",\"startlinecolor\":\"#2a3f5f\"},\"baxis\":{\"endlinecolor\":\"#2a3f5f\",\"gridcolor\":\"white\",\"linecolor\":\"white\",\"minorgridcolor\":\"white\",\"startlinecolor\":\"#2a3f5f\"},\"type\":\"carpet\"}],\"choropleth\":[{\"colorbar\":{\"outlinewidth\":0,\"ticks\":\"\"},\"type\":\"choropleth\"}],\"contour\":[{\"colorbar\":{\"outlinewidth\":0,\"ticks\":\"\"},\"colorscale\":[[0.0,\"#0d0887\"],[0.1111111111111111,\"#46039f\"],[0.2222222222222222,\"#7201a8\"],[0.3333333333333333,\"#9c179e\"],[0.4444444444444444,\"#bd3786\"],[0.5555555555555556,\"#d8576b\"],[0.6666666666666666,\"#ed7953\"],[0.7777777777777778,\"#fb9f3a\"],[0.8888888888888888,\"#fdca26\"],[1.0,\"#f0f921\"]],\"type\":\"contour\"}],\"contourcarpet\":[{\"colorbar\":{\"outlinewidth\":0,\"ticks\":\"\"},\"type\":\"contourcarpet\"}],\"heatmap\":[{\"colorbar\":{\"outlinewidth\":0,\"ticks\":\"\"},\"colorscale\":[[0.0,\"#0d0887\"],[0.1111111111111111,\"#46039f\"],[0.2222222222222222,\"#7201a8\"],[0.3333333333333333,\"#9c179e\"],[0.4444444444444444,\"#bd3786\"],[0.5555555555555556,\"#d8576b\"],[0.6666666666666666,\"#ed7953\"],[0.7777777777777778,\"#fb9f3a\"],[0.8888888888888888,\"#fdca26\"],[1.0,\"#f0f921\"]],\"type\":\"heatmap\"}],\"heatmapgl\":[{\"colorbar\":{\"outlinewidth\":0,\"ticks\":\"\"},\"colorscale\":[[0.0,\"#0d0887\"],[0.1111111111111111,\"#46039f\"],[0.2222222222222222,\"#7201a8\"],[0.3333333333333333,\"#9c179e\"],[0.4444444444444444,\"#bd3786\"],[0.5555555555555556,\"#d8576b\"],[0.6666666666666666,\"#ed7953\"],[0.7777777777777778,\"#fb9f3a\"],[0.8888888888888888,\"#fdca26\"],[1.0,\"#f0f921\"]],\"type\":\"heatmapgl\"}],\"histogram\":[{\"marker\":{\"pattern\":{\"fillmode\":\"overlay\",\"size\":10,\"solidity\":0.2}},\"type\":\"histogram\"}],\"histogram2d\":[{\"colorbar\":{\"outlinewidth\":0,\"ticks\":\"\"},\"colorscale\":[[0.0,\"#0d0887\"],[0.1111111111111111,\"#46039f\"],[0.2222222222222222,\"#7201a8\"],[0.3333333333333333,\"#9c179e\"],[0.4444444444444444,\"#bd3786\"],[0.5555555555555556,\"#d8576b\"],[0.6666666666666666,\"#ed7953\"],[0.7777777777777778,\"#fb9f3a\"],[0.8888888888888888,\"#fdca26\"],[1.0,\"#f0f921\"]],\"type\":\"histogram2d\"}],\"histogram2dcontour\":[{\"colorbar\":{\"outlinewidth\":0,\"ticks\":\"\"},\"colorscale\":[[0.0,\"#0d0887\"],[0.1111111111111111,\"#46039f\"],[0.2222222222222222,\"#7201a8\"],[0.3333333333333333,\"#9c179e\"],[0.4444444444444444,\"#bd3786\"],[0.5555555555555556,\"#d8576b\"],[0.6666666666666666,\"#ed7953\"],[0.7777777777777778,\"#fb9f3a\"],[0.8888888888888888,\"#fdca26\"],[1.0,\"#f0f921\"]],\"type\":\"histogram2dcontour\"}],\"mesh3d\":[{\"colorbar\":{\"outlinewidth\":0,\"ticks\":\"\"},\"type\":\"mesh3d\"}],\"parcoords\":[{\"line\":{\"colorbar\":{\"outlinewidth\":0,\"ticks\":\"\"}},\"type\":\"parcoords\"}],\"pie\":[{\"automargin\":true,\"type\":\"pie\"}],\"scatter\":[{\"marker\":{\"colorbar\":{\"outlinewidth\":0,\"ticks\":\"\"}},\"type\":\"scatter\"}],\"scatter3d\":[{\"line\":{\"colorbar\":{\"outlinewidth\":0,\"ticks\":\"\"}},\"marker\":{\"colorbar\":{\"outlinewidth\":0,\"ticks\":\"\"}},\"type\":\"scatter3d\"}],\"scattercarpet\":[{\"marker\":{\"colorbar\":{\"outlinewidth\":0,\"ticks\":\"\"}},\"type\":\"scattercarpet\"}],\"scattergeo\":[{\"marker\":{\"colorbar\":{\"outlinewidth\":0,\"ticks\":\"\"}},\"type\":\"scattergeo\"}],\"scattergl\":[{\"marker\":{\"colorbar\":{\"outlinewidth\":0,\"ticks\":\"\"}},\"type\":\"scattergl\"}],\"scattermapbox\":[{\"marker\":{\"colorbar\":{\"outlinewidth\":0,\"ticks\":\"\"}},\"type\":\"scattermapbox\"}],\"scatterpolar\":[{\"marker\":{\"colorbar\":{\"outlinewidth\":0,\"ticks\":\"\"}},\"type\":\"scatterpolar\"}],\"scatterpolargl\":[{\"marker\":{\"colorbar\":{\"outlinewidth\":0,\"ticks\":\"\"}},\"type\":\"scatterpolargl\"}],\"scatterternary\":[{\"marker\":{\"colorbar\":{\"outlinewidth\":0,\"ticks\":\"\"}},\"type\":\"scatterternary\"}],\"surface\":[{\"colorbar\":{\"outlinewidth\":0,\"ticks\":\"\"},\"colorscale\":[[0.0,\"#0d0887\"],[0.1111111111111111,\"#46039f\"],[0.2222222222222222,\"#7201a8\"],[0.3333333333333333,\"#9c179e\"],[0.4444444444444444,\"#bd3786\"],[0.5555555555555556,\"#d8576b\"],[0.6666666666666666,\"#ed7953\"],[0.7777777777777778,\"#fb9f3a\"],[0.8888888888888888,\"#fdca26\"],[1.0,\"#f0f921\"]],\"type\":\"surface\"}],\"table\":[{\"cells\":{\"fill\":{\"color\":\"#EBF0F8\"},\"line\":{\"color\":\"white\"}},\"header\":{\"fill\":{\"color\":\"#C8D4E3\"},\"line\":{\"color\":\"white\"}},\"type\":\"table\"}]},\"layout\":{\"annotationdefaults\":{\"arrowcolor\":\"#2a3f5f\",\"arrowhead\":0,\"arrowwidth\":1},\"autotypenumbers\":\"strict\",\"coloraxis\":{\"colorbar\":{\"outlinewidth\":0,\"ticks\":\"\"}},\"colorscale\":{\"diverging\":[[0,\"#8e0152\"],[0.1,\"#c51b7d\"],[0.2,\"#de77ae\"],[0.3,\"#f1b6da\"],[0.4,\"#fde0ef\"],[0.5,\"#f7f7f7\"],[0.6,\"#e6f5d0\"],[0.7,\"#b8e186\"],[0.8,\"#7fbc41\"],[0.9,\"#4d9221\"],[1,\"#276419\"]],\"sequential\":[[0.0,\"#0d0887\"],[0.1111111111111111,\"#46039f\"],[0.2222222222222222,\"#7201a8\"],[0.3333333333333333,\"#9c179e\"],[0.4444444444444444,\"#bd3786\"],[0.5555555555555556,\"#d8576b\"],[0.6666666666666666,\"#ed7953\"],[0.7777777777777778,\"#fb9f3a\"],[0.8888888888888888,\"#fdca26\"],[1.0,\"#f0f921\"]],\"sequentialminus\":[[0.0,\"#0d0887\"],[0.1111111111111111,\"#46039f\"],[0.2222222222222222,\"#7201a8\"],[0.3333333333333333,\"#9c179e\"],[0.4444444444444444,\"#bd3786\"],[0.5555555555555556,\"#d8576b\"],[0.6666666666666666,\"#ed7953\"],[0.7777777777777778,\"#fb9f3a\"],[0.8888888888888888,\"#fdca26\"],[1.0,\"#f0f921\"]]},\"colorway\":[\"#636efa\",\"#EF553B\",\"#00cc96\",\"#ab63fa\",\"#FFA15A\",\"#19d3f3\",\"#FF6692\",\"#B6E880\",\"#FF97FF\",\"#FECB52\"],\"font\":{\"color\":\"#2a3f5f\"},\"geo\":{\"bgcolor\":\"white\",\"lakecolor\":\"white\",\"landcolor\":\"#E5ECF6\",\"showlakes\":true,\"showland\":true,\"subunitcolor\":\"white\"},\"hoverlabel\":{\"align\":\"left\"},\"hovermode\":\"closest\",\"mapbox\":{\"style\":\"light\"},\"paper_bgcolor\":\"white\",\"plot_bgcolor\":\"#E5ECF6\",\"polar\":{\"angularaxis\":{\"gridcolor\":\"white\",\"linecolor\":\"white\",\"ticks\":\"\"},\"bgcolor\":\"#E5ECF6\",\"radialaxis\":{\"gridcolor\":\"white\",\"linecolor\":\"white\",\"ticks\":\"\"}},\"scene\":{\"xaxis\":{\"backgroundcolor\":\"#E5ECF6\",\"gridcolor\":\"white\",\"gridwidth\":2,\"linecolor\":\"white\",\"showbackground\":true,\"ticks\":\"\",\"zerolinecolor\":\"white\"},\"yaxis\":{\"backgroundcolor\":\"#E5ECF6\",\"gridcolor\":\"white\",\"gridwidth\":2,\"linecolor\":\"white\",\"showbackground\":true,\"ticks\":\"\",\"zerolinecolor\":\"white\"},\"zaxis\":{\"backgroundcolor\":\"#E5ECF6\",\"gridcolor\":\"white\",\"gridwidth\":2,\"linecolor\":\"white\",\"showbackground\":true,\"ticks\":\"\",\"zerolinecolor\":\"white\"}},\"shapedefaults\":{\"line\":{\"color\":\"#2a3f5f\"}},\"ternary\":{\"aaxis\":{\"gridcolor\":\"white\",\"linecolor\":\"white\",\"ticks\":\"\"},\"baxis\":{\"gridcolor\":\"white\",\"linecolor\":\"white\",\"ticks\":\"\"},\"bgcolor\":\"#E5ECF6\",\"caxis\":{\"gridcolor\":\"white\",\"linecolor\":\"white\",\"ticks\":\"\"}},\"title\":{\"x\":0.05},\"xaxis\":{\"automargin\":true,\"gridcolor\":\"white\",\"linecolor\":\"white\",\"ticks\":\"\",\"title\":{\"standoff\":15},\"zerolinecolor\":\"white\",\"zerolinewidth\":2},\"yaxis\":{\"automargin\":true,\"gridcolor\":\"white\",\"linecolor\":\"white\",\"ticks\":\"\",\"title\":{\"standoff\":15},\"zerolinecolor\":\"white\",\"zerolinewidth\":2}}},\"title\":{\"text\":\"Most Expensive Neighbourhoods in Toronto\"}},\"margin\":[5,5,5,5],\"name\":\"Plotly10712\",\"viewport_update_throttle\":200},\"id\":\"4599\",\"type\":\"panel.models.plotly.PlotlyPlot\"},{\"attributes\":{\"axis\":{\"id\":\"4545\"},\"dimension\":1,\"grid_line_color\":null,\"ticker\":null},\"id\":\"4548\",\"type\":\"Grid\"},{\"attributes\":{\"bottom\":{\"value\":0},\"fill_alpha\":{\"value\":1.0},\"fill_color\":{\"value\":\"#30a2da\"},\"hatch_alpha\":{\"value\":1.0},\"hatch_color\":{\"value\":\"black\"},\"hatch_scale\":{\"value\":12.0},\"hatch_weight\":{\"value\":1.0},\"line_alpha\":{\"value\":1.0},\"line_cap\":{\"value\":\"butt\"},\"line_color\":{\"value\":\"black\"},\"line_dash\":{\"value\":[]},\"line_dash_offset\":{\"value\":0},\"line_join\":{\"value\":\"bevel\"},\"line_width\":{\"value\":1},\"top\":{\"field\":\"average_house_value\"},\"width\":{\"value\":0.8},\"x\":{\"field\":\"neighbourhood\"}},\"id\":\"4570\",\"type\":\"VBar\"},{\"attributes\":{\"axis\":{\"id\":\"4542\"},\"grid_line_color\":null,\"ticker\":null},\"id\":\"4544\",\"type\":\"Grid\"},{\"attributes\":{},\"id\":\"4553\",\"type\":\"ResetTool\"},{\"attributes\":{},\"id\":\"4607\",\"type\":\"UnionRenderers\"},{\"attributes\":{\"axis_label\":\"average_house_value\",\"formatter\":{\"id\":\"4571\"},\"major_label_policy\":{\"id\":\"4575\"},\"ticker\":{\"id\":\"4546\"}},\"id\":\"4545\",\"type\":\"LinearAxis\"},{\"attributes\":{\"source\":{\"id\":\"4562\"}},\"id\":\"4569\",\"type\":\"CDSView\"},{\"attributes\":{},\"id\":\"4546\",\"type\":\"BasicTicker\"},{\"attributes\":{\"text\":\"Top 10 Expensive Neighbourhood in Toronto\",\"text_color\":\"black\",\"text_font_size\":\"12pt\"},\"id\":\"4534\",\"type\":\"Title\"},{\"attributes\":{\"overlay\":{\"id\":\"4554\"}},\"id\":\"4552\",\"type\":\"BoxZoomTool\"},{\"attributes\":{},\"id\":\"4573\",\"type\":\"AllLabels\"},{\"attributes\":{\"active_multi\":null,\"tools\":[{\"id\":\"4532\"},{\"id\":\"4549\"},{\"id\":\"4550\"},{\"id\":\"4551\"},{\"id\":\"4552\"},{\"id\":\"4553\"}]},\"id\":\"4555\",\"type\":\"Toolbar\"},{\"attributes\":{\"bottom_units\":\"screen\",\"fill_alpha\":0.5,\"fill_color\":\"lightgrey\",\"left_units\":\"screen\",\"level\":\"overlay\",\"line_alpha\":1.0,\"line_color\":\"black\",\"line_dash\":[4,4],\"line_width\":2,\"right_units\":\"screen\",\"syncable\":false,\"top_units\":\"screen\"},\"id\":\"4554\",\"type\":\"BoxAnnotation\"},{\"attributes\":{\"below\":[{\"id\":\"4542\"}],\"center\":[{\"id\":\"4544\"},{\"id\":\"4548\"}],\"height\":500,\"left\":[{\"id\":\"4545\"}],\"margin\":[5,5,5,5],\"min_border_bottom\":10,\"min_border_left\":10,\"min_border_right\":10,\"min_border_top\":10,\"renderers\":[{\"id\":\"4568\"}],\"sizing_mode\":\"fixed\",\"title\":{\"id\":\"4534\"},\"toolbar\":{\"id\":\"4555\"},\"width\":700,\"x_range\":{\"id\":\"4530\"},\"x_scale\":{\"id\":\"4538\"},\"y_range\":{\"id\":\"4531\"},\"y_scale\":{\"id\":\"4540\"}},\"id\":\"4533\",\"subtype\":\"Figure\",\"type\":\"Plot\"},{\"attributes\":{\"fill_alpha\":{\"value\":0.2},\"fill_color\":{\"value\":\"#30a2da\"},\"line_alpha\":{\"value\":0.2},\"top\":{\"field\":\"average_house_value\"},\"width\":{\"value\":0.8},\"x\":{\"field\":\"neighbourhood\"}},\"id\":\"4567\",\"type\":\"VBar\"},{\"attributes\":{\"end\":2207617.6,\"reset_end\":2207617.6,\"reset_start\":0.0,\"tags\":[[[\"average_house_value\",\"average_house_value\",null]]]},\"id\":\"4531\",\"type\":\"Range1d\"},{\"attributes\":{},\"id\":\"4549\",\"type\":\"SaveTool\"},{\"attributes\":{\"data\":{\"average_house_value\":[2124653,1697067,1664653,1522732,1522193,1390616,1365503,1356757,1329642,1295007],\"neighbourhood\":[\"Bridle Path-Sunnybrook-York Mills\",\"Bridle Path-Sunnybrook-York Mills\",\"Forest Hill South\",\"Lawrence Park South\",\"Rosedale-Moore Park\",\"St.Andrew-Windfields\",\"Casa Loma\",\"Bridle Path-Sunnybrook-York Mills\",\"Forest Hill South\",\"Bedford Park-Nortown\"]},\"selected\":{\"id\":\"4563\"},\"selection_policy\":{\"id\":\"4587\"}},\"id\":\"4562\",\"type\":\"ColumnDataSource\"},{\"attributes\":{\"format\":\"%.0f\"},\"id\":\"4571\",\"type\":\"PrintfTickFormatter\"},{\"attributes\":{\"factors\":[\"Bridle Path-Sunnybrook-York Mills\",\"Forest Hill South\",\"Lawrence Park South\",\"Rosedale-Moore Park\",\"St.Andrew-Windfields\",\"Casa Loma\",\"Bedford Park-Nortown\"],\"tags\":[[[\"neighbourhood\",\"neighbourhood\",null]]]},\"id\":\"4530\",\"type\":\"FactorRange\"},{\"attributes\":{\"fill_color\":{\"value\":\"#30a2da\"},\"top\":{\"field\":\"average_house_value\"},\"width\":{\"value\":0.8},\"x\":{\"field\":\"neighbourhood\"}},\"id\":\"4565\",\"type\":\"VBar\"},{\"attributes\":{\"children\":[{\"id\":\"4533\"},{\"id\":\"4599\"}],\"margin\":[0,0,0,0],\"name\":\"Row10714\"},\"id\":\"4529\",\"type\":\"Row\"},{\"attributes\":{},\"id\":\"4538\",\"type\":\"CategoricalScale\"},{\"attributes\":{},\"id\":\"4575\",\"type\":\"AllLabels\"},{\"attributes\":{},\"id\":\"4551\",\"type\":\"WheelZoomTool\"},{\"attributes\":{\"reload\":false},\"id\":\"4700\",\"type\":\"panel.models.location.Location\"}],\"root_ids\":[\"4529\",\"4666\",\"4700\"]},\"title\":\"Bokeh Application\",\"version\":\"2.3.2\"}};\n",
       "    var render_items = [{\"docid\":\"41994620-10cd-4870-b5c7-ae61f30012b4\",\"root_ids\":[\"4529\"],\"roots\":{\"4529\":\"d62331ba-bb1a-41ce-904d-da696a827ade\"}}];\n",
       "    root.Bokeh.embed.embed_items_notebook(docs_json, render_items);\n",
       "  }\n",
       "  if (root.Bokeh !== undefined && root.Bokeh.Panel !== undefined && ( root['Plotly'] !== undefined)) {\n",
       "    embed_document(root);\n",
       "  } else {\n",
       "    var attempts = 0;\n",
       "    var timer = setInterval(function(root) {\n",
       "      if (root.Bokeh !== undefined && root.Bokeh.Panel !== undefined && (root['Plotly'] !== undefined)) {\n",
       "        clearInterval(timer);\n",
       "        embed_document(root);\n",
       "      } else if (document.readyState == \"complete\") {\n",
       "        attempts++;\n",
       "        if (attempts > 200) {\n",
       "          clearInterval(timer);\n",
       "          console.log(\"Bokeh: ERROR: Unable to run BokehJS code because BokehJS library is missing\");\n",
       "        }\n",
       "      }\n",
       "    }, 25, root)\n",
       "  }\n",
       "})(window);</script>"
      ],
      "text/plain": [
       "Row\n",
       "    [0] HoloViews(Bars)\n",
       "    [1] Plotly(Figure)"
      ]
     },
     "execution_count": 100,
     "metadata": {
      "application/vnd.holoviews_exec.v0+json": {
       "id": "4529"
      }
     },
     "output_type": "execute_result"
    }
   ],
   "source": [
    "# Create a Title for the Dashboard\n",
    "title = '# Rental Analysis of Torotno from 2001 to 2016 '\n",
    "# Define a welcome text\n",
    "welcome_text = 'This Dashboard displays historical house prices which are categoried by dwelling types per neighbourhood and dwelling cost in Toronto,Ontoario; according to Toronto census data from 2001 to 2016.' \n",
    "# Create a tab layout for the dashboard\n",
    "yearly_analysis_row1 = pn.Row(plot_2001,plot_2006)\n",
    "yearly_analysis_row2 = pn.Row(plot_2011,plot_2016)\n",
    "\n",
    "yearly_analysis_column = pn.Column(\n",
    "\n",
    "    '# Dwelling Types in Toronto from 2001-2016',\n",
    "    yearly_analysis_row1,\n",
    "    yearly_analysis_row2\n",
    "    \n",
    ")\n",
    "\n",
    "# Creating Monthly shelter costs dashboard.\n",
    "\n",
    "dwelling_cost_column = pn.Column(\n",
    "\n",
    "    '# Average monthly shelter Costs for owned and rented dwellings and their average house value per year.',\n",
    "    owned_plot,\n",
    "    rented_plot,\n",
    "    avg_value_plot\n",
    "\n",
    "\n",
    "\n",
    ") \n",
    "\n",
    "# Creating dwelling types and average hosue value per neighbourhood dashboard .\n",
    "dwelling_neighbourhood_column = pn.Column(average_value_neighbourhood_plot, neighbourhood_dwelling_types)\n",
    "\n",
    "dwelling_neighbourhood_row = pn.Row(dwelling_neighbourhood_column, facet_row)\n",
    "\n",
    "\n",
    "\n",
    "#Creating Dashboard for top expensive neighbourhoods in Toronto\n",
    "top_neighbourhood_row = pn.Row(top_10_plot, df_sunburst)\n",
    "\n",
    "\n",
    "\n",
    "# Create the main dashboard\n"
   ]
  },
  {
   "cell_type": "markdown",
   "metadata": {},
   "source": [
    "## Serve the Panel Dashboard"
   ]
  },
  {
   "cell_type": "code",
   "execution_count": null,
   "metadata": {},
   "outputs": [],
   "source": [
    "dashboard.servable()"
   ]
  },
  {
   "cell_type": "markdown",
   "metadata": {},
   "source": [
    "# Debugging\n",
    "\n",
    "Note: Some of the Plotly express plots may not render in the notebook through the panel functions.\n",
    "\n",
    "However, you can test each plot by uncommenting the following code"
   ]
  },
  {
   "cell_type": "code",
   "execution_count": null,
   "metadata": {},
   "outputs": [],
   "source": [
    "# neighbourhood_map().show()"
   ]
  },
  {
   "cell_type": "code",
   "execution_count": null,
   "metadata": {},
   "outputs": [],
   "source": [
    "# create_bar_chart(data, title, xlabel, ylabel, color)\n",
    "\n",
    "# # Bar chart for 2001\n",
    "# create_bar_chart(df_dwelling_units.loc[2001], \"Dwelling Types in Toronto in 2001\", \"2001\", \"Dwelling Type Units\", \"red\")\n",
    "\n",
    "# # Bar chart for 2006\n",
    "# create_bar_chart(df_dwelling_units.loc[2006], \"Dwelling Types in Toronto in 2006\", \"2006\", \"Dwelling Type Units\", \"blue\")\n",
    "\n",
    "# # Bar chart for 2011\n",
    "# create_bar_chart(df_dwelling_units.loc[2011], \"Dwelling Types in Toronto in 2011\", \"2011\", \"Dwelling Type Units\", \"orange\")\n",
    "\n",
    "# # Bar chart for 2016\n",
    "# create_bar_chart(df_dwelling_units.loc[2016], \"Dwelling Types in Toronto in 2016\", \"2016\", \"Dwelling Type Units\", \"magenta\")"
   ]
  },
  {
   "cell_type": "code",
   "execution_count": null,
   "metadata": {},
   "outputs": [],
   "source": [
    "# create_line_chart(data, title, xlabel, ylabel, color)\n",
    "\n",
    "# # Line chart for owned dwellings\n",
    "# create_line_chart(df_avg_costs[\"shelter_costs_owned\"], \"Average Monthly Shelter Cost for Owned Dwellings in Toronto\", \"Year\", \"Avg Monthly Shelter Costs\", \"blue\")\n",
    "\n",
    "# # Line chart for rented dwellings\n",
    "# create_line_chart(df_avg_costs[\"shelter_costs_rented\"], \"Average Monthly Shelter Cost for Rented Dwellings in Toronto\", \"Year\", \"Avg Monthly Shelter Costs\", \"orange\")"
   ]
  },
  {
   "cell_type": "code",
   "execution_count": null,
   "metadata": {},
   "outputs": [],
   "source": [
    "# average_house_value()"
   ]
  },
  {
   "cell_type": "code",
   "execution_count": null,
   "metadata": {},
   "outputs": [],
   "source": [
    "# average_value_by_neighbourhood()"
   ]
  },
  {
   "cell_type": "code",
   "execution_count": null,
   "metadata": {},
   "outputs": [],
   "source": [
    "# number_dwelling_types()"
   ]
  },
  {
   "cell_type": "code",
   "execution_count": null,
   "metadata": {},
   "outputs": [],
   "source": [
    "# average_house_value_snapshot()"
   ]
  },
  {
   "cell_type": "code",
   "execution_count": null,
   "metadata": {},
   "outputs": [],
   "source": [
    "# top_most_expensive_neighbourhoods()"
   ]
  },
  {
   "cell_type": "code",
   "execution_count": null,
   "metadata": {},
   "outputs": [],
   "source": [
    "# sunburts_cost_analysis()"
   ]
  }
 ],
 "metadata": {
  "file_extension": ".py",
  "kernelspec": {
   "display_name": "Python [conda env:pyvizenv] *",
   "language": "python",
   "name": "conda-env-pyvizenv-py"
  },
  "language_info": {
   "codemirror_mode": {
    "name": "ipython",
    "version": 3
   },
   "file_extension": ".py",
   "mimetype": "text/x-python",
   "name": "python",
   "nbconvert_exporter": "python",
   "pygments_lexer": "ipython3",
   "version": "3.8.8"
  },
  "mimetype": "text/x-python",
  "name": "python",
  "npconvert_exporter": "python",
  "pygments_lexer": "ipython3",
  "version": 3
 },
 "nbformat": 4,
 "nbformat_minor": 4
}
